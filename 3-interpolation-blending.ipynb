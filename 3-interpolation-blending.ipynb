{
 "cells": [
  {
   "cell_type": "markdown",
   "metadata": {},
   "source": [
    "## **Introduction to Image Processing**"
   ]
  },
  {
   "cell_type": "markdown",
   "metadata": {},
   "source": [
    "## Interpolation and Blending"
   ]
  },
  {
   "cell_type": "markdown",
   "metadata": {},
   "source": [
    " Importing necessary libraries/modules and functions"
   ]
  },
  {
   "cell_type": "code",
   "execution_count": 2,
   "metadata": {
    "collapsed": false
   },
   "outputs": [
    {
     "name": "stdout",
     "output_type": "stream",
     "text": [
      "Pretty printing has been turned OFF\n"
     ]
    }
   ],
   "source": [
    "% matplotlib inline\n",
    "% pprint off\n",
    "\n",
    "\n",
    "# Import the library as show images, plot, etc.\n",
    "import matplotlib.pyplot as plt\n",
    "# Import functionality for the color map\n",
    "import matplotlib.cm as cm\n",
    "\n",
    "# Import system specific parameters and function\n",
    "import sys \n",
    "\n",
    "## Other plotting libraries\n",
    "# import seaborn as sns\n",
    "\n",
    "# Import the library to mange the matrix and array \n",
    "import numpy as np\n",
    "\n",
    "# Importing image processing toolbox \n",
    "## Module to read, write,... \n",
    "from skimage import io\n",
    "## Module to convert the image on 8 bits\n",
    "from skimage import img_as_ubyte\n",
    "## Module to convert the image to float\n",
    "from skimage import img_as_float\n",
    "## Module for color conversion \n",
    "from skimage import color\n",
    "## Module image transform from skimage for resize \n",
    "from skimage import transform\n",
    "## Module misc from scipy for resize \n",
    "from scipy import misc\n",
    "## Module util from skimage \n",
    "from PIL import Image\n"
   ]
  },
  {
   "cell_type": "markdown",
   "metadata": {},
   "source": [
    "### ** Resizing an image size using different interpolation functions**"
   ]
  },
  {
   "cell_type": "markdown",
   "metadata": {},
   "source": [
    "**1. ** Resize the lena or vibot image using nearest, bilinear and bicubic function.\n",
    "\n",
    "You can define your function which accept the model and resize size from the user or just run a script."
   ]
  },
  {
   "cell_type": "code",
   "execution_count": 7,
   "metadata": {
    "collapsed": false
   },
   "outputs": [
    {
     "name": "stdout",
     "output_type": "stream",
     "text": [
      "mohit\n"
     ]
    }
   ],
   "source": [
    "print ('mohit');"
   ]
  },
  {
   "cell_type": "code",
   "execution_count": 4,
   "metadata": {
    "collapsed": false
   },
   "outputs": [
    {
     "ename": "NameError",
     "evalue": "name 'im_resize' is not defined",
     "output_type": "error",
     "traceback": [
      "\u001b[1;31m---------------------------------------------------------------------------\u001b[0m",
      "\u001b[1;31mNameError\u001b[0m                                 Traceback (most recent call last)",
      "\u001b[1;32m<ipython-input-4-f665aa655426>\u001b[0m in \u001b[0;36m<module>\u001b[1;34m()\u001b[0m\n\u001b[0;32m      1\u001b[0m \u001b[0mplt\u001b[0m\u001b[1;33m.\u001b[0m\u001b[0mfigure\u001b[0m\u001b[1;33m\u001b[0m\u001b[0m\n\u001b[1;32m----> 2\u001b[1;33m \u001b[0mplt\u001b[0m\u001b[1;33m.\u001b[0m\u001b[0mimshow\u001b[0m\u001b[1;33m(\u001b[0m\u001b[0mim_resize\u001b[0m\u001b[1;33m,\u001b[0m \u001b[0mcmap\u001b[0m\u001b[1;33m=\u001b[0m\u001b[0mplt\u001b[0m\u001b[1;33m.\u001b[0m\u001b[0mcm\u001b[0m\u001b[1;33m.\u001b[0m\u001b[0mgray\u001b[0m\u001b[1;33m)\u001b[0m\u001b[1;33m\u001b[0m\u001b[0m\n\u001b[0m\u001b[0;32m      3\u001b[0m \u001b[0mplt\u001b[0m\u001b[1;33m.\u001b[0m\u001b[0mshow\u001b[0m\u001b[1;33m(\u001b[0m\u001b[1;33m)\u001b[0m\u001b[1;33m\u001b[0m\u001b[0m\n",
      "\u001b[1;31mNameError\u001b[0m: name 'im_resize' is not defined"
     ]
    }
   ],
   "source": [
    "plt.figure\n",
    "plt.imshow(im_resize, cmap=plt.cm.gray)\n",
    "plt.show()  "
   ]
  },
  {
   "cell_type": "markdown",
   "metadata": {},
   "source": [
    "**2. ** Similar to the function of `my_blending.m` that you saw before define your function of blending.\n",
    "\n",
    "Blend the lena image and vibot image using simple, alpha and pyramid method.   \n",
    "\n",
    "Pyramid blending method: \n",
    "1. Create a mask the same size as your input images \n",
    "2. Create Laplacian pyramid of the input images \n",
    "    2.1. Create Gaussian pyramids of the input images\n",
    "    2.2. Create Laplacian pyramids using the Gaussian pyramids\n",
    "3. Create Gaussian pyramid for the region mask\n",
    "4. Blend the two laplacian pyramids using the pyramid of the mask as weigh \n",
    "    $$ BL = L_1 * (GM) + L_2 *(1 - GM)$$\n",
    "5. Colapse the pyramid to get the final image \n",
    "    $$rescale(rescale(rescale(BL_3)+BL_2)+BL_1)+BL_0$$\n",
    "\n",
    "Note : For pyramid blending approach, you can use:\n",
    "    * transform.rescale for upscaling your images\n",
    "    * transform.pyramid_gaussian for building your pyramids\n",
    "    * The output of transform.pyramid_gaussian is a type generator and you need to convert it to a list :\n",
    "    \n",
    "        b = [a for a in Gaussian_pyramid]\n"
   ]
  },
  {
   "cell_type": "code",
   "execution_count": null,
   "metadata": {
    "collapsed": false
   },
   "outputs": [],
   "source": []
  },
  {
   "cell_type": "markdown",
   "metadata": {},
   "source": [
    "Use the `orange.jpeg` and `apple.jpeg` imgages and blend them using simple, alpha and pyramid approach."
   ]
  },
  {
   "cell_type": "code",
   "execution_count": null,
   "metadata": {
    "collapsed": true
   },
   "outputs": [],
   "source": []
  },
  {
   "cell_type": "markdown",
   "metadata": {},
   "source": [
    "Show the your answers."
   ]
  },
  {
   "cell_type": "code",
   "execution_count": null,
   "metadata": {
    "collapsed": true
   },
   "outputs": [],
   "source": []
  }
 ],
 "metadata": {
  "kernelspec": {
   "display_name": "Python [Root]",
   "language": "python",
   "name": "Python [Root]"
  },
  "language_info": {
   "codemirror_mode": {
    "name": "ipython",
    "version": 3
   },
   "file_extension": ".py",
   "mimetype": "text/x-python",
   "name": "python",
   "nbconvert_exporter": "python",
   "pygments_lexer": "ipython3",
   "version": "3.5.2"
  }
 },
 "nbformat": 4,
 "nbformat_minor": 0
}
